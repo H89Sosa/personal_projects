{
 "cells": [
  {
   "cell_type": "code",
   "execution_count": 1,
   "metadata": {
    "ExecuteTime": {
     "end_time": "2019-12-21T13:25:12.552103Z",
     "start_time": "2019-12-21T13:25:12.138328Z"
    }
   },
   "outputs": [
    {
     "name": "stdout",
     "output_type": "stream",
     "text": [
      "There are 16 seats available\n"
     ]
    }
   ],
   "source": [
    "import random\n",
    "import matplotlib.pyplot as plt\n",
    "## Setting up the variables\n",
    "\n",
    "Ironhack = [\"Gabi\", \"Isaac\", \"Miguel\", \"Oscar\", \"Dinis\", \"Hindo\", \"Javi\", \"Jota\", \"Karla\", \"Luis\", \"Kristina\", \"Mar\", \"M. Ángel\", \"Nikita\", \"Pau\", \"Sosa\"]\n",
    "seats = len(Ironhack)\n",
    "\n",
    "print(f\"There are {seats} seats available\")"
   ]
  },
  {
   "cell_type": "code",
   "execution_count": 2,
   "metadata": {
    "ExecuteTime": {
     "end_time": "2019-12-21T13:25:12.561694Z",
     "start_time": "2019-12-21T13:25:12.554206Z"
    }
   },
   "outputs": [
    {
     "name": "stdout",
     "output_type": "stream",
     "text": [
      "The student Nikita seats in seat nº 1\n",
      "The student Kristina seats in seat nº 2\n",
      "The student Jota seats in seat nº 3\n",
      "The student Karla seats in seat nº 4\n",
      "The student Javi seats in seat nº 5\n",
      "The student Oscar seats in seat nº 6\n",
      "The student Pau seats in seat nº 7\n",
      "The student Dinis seats in seat nº 8\n",
      "The student Miguel seats in seat nº 9\n",
      "The student Sosa seats in seat nº 10\n",
      "The student M. Ángel seats in seat nº 11\n",
      "The student Mar seats in seat nº 12\n",
      "The student Gabi seats in seat nº 13\n",
      "The student Isaac seats in seat nº 14\n",
      "The student Hindo seats in seat nº 15\n",
      "The student Luis seats in seat nº 16\n"
     ]
    }
   ],
   "source": [
    "def Seats(lst):\n",
    "    random.shuffle(lst)\n",
    "    for index, elem in enumerate(lst):\n",
    "        print(f\"The student {elem} seats in seat nº {index+1}\")\n",
    "    return lst\n",
    "    \n",
    "        \n",
    "\n",
    "random_list = Seats(Ironhack)\n",
    "\n"
   ]
  },
  {
   "cell_type": "code",
   "execution_count": 5,
   "metadata": {
    "ExecuteTime": {
     "end_time": "2019-12-21T13:27:30.758601Z",
     "start_time": "2019-12-21T13:27:30.591053Z"
    }
   },
   "outputs": [
    {
     "name": "stdout",
     "output_type": "stream",
     "text": [
      "The student Sosa seats in seat nº 1\n",
      "The student Hindo seats in seat nº 2\n",
      "The student Dinis seats in seat nº 3\n",
      "The student Jota seats in seat nº 4\n",
      "The student Oscar seats in seat nº 5\n",
      "The student Nikita seats in seat nº 6\n",
      "The student Kristina seats in seat nº 7\n",
      "The student M. Ángel seats in seat nº 8\n",
      "The student Mar seats in seat nº 9\n",
      "The student Javi seats in seat nº 10\n",
      "The student Miguel seats in seat nº 11\n",
      "The student Gabi seats in seat nº 12\n",
      "The student Isaac seats in seat nº 13\n",
      "The student Karla seats in seat nº 14\n",
      "The student Luis seats in seat nº 15\n",
      "The student Pau seats in seat nº 16\n"
     ]
    },
    {
     "data": {
      "image/png": "[encoded data removed]",
      "text/plain": [
       "<Figure size 792x792 with 1 Axes>"
      ]
     },
     "metadata": {},
     "output_type": "display_data"
    }
   ],
   "source": [
    "Seats(Ironhack)\n",
    "\n",
    "x = 0\n",
    "y = 0\n",
    "x_axis = []\n",
    "y_axis = []\n",
    "dot_name = []\n",
    "\n",
    "for index, elem in enumerate(random_list):\n",
    "    x_axis.append(x+1)\n",
    "    y_axis.append(y+1)\n",
    "    dot_name.append(elem)\n",
    "    #print(f\"{elem} position is {x+1} - {y+1}\")\n",
    "    if y < 3: \n",
    "        y += 1\n",
    "    else:\n",
    "        y = 0 \n",
    "        x += 1\n",
    "\n",
    "fig, ax = plt.subplots(figsize=(11, 11))\n",
    "ax.set_title('Proyector', size= 20)\n",
    "ax.set_xlabel(None)\n",
    "ax.set_ylabel(None)\n",
    "ax.scatter(x_axis, y_axis, alpha=0)\n",
    "ax.spines['top'].set_visible(False)\n",
    "ax.spines['right'].set_visible(True)\n",
    "ax.grid(color='grey', linestyle='-', linewidth=0.25, alpha=0.5)\n",
    "ax.set_xticks([])\n",
    "ax.set_yticks([])\n",
    "ax.set_xlim([0.5,5])\n",
    "ax.set_ylim([0,5])\n",
    "\n",
    "for i, txt in enumerate(dot_name):\n",
    "    ax.annotate(txt, (x_axis[i], y_axis[i]), size=16, color=\"g\")\n",
    "    "
   ]
  },
  {
   "cell_type": "code",
   "execution_count": null,
   "metadata": {},
   "outputs": [],
   "source": []
  }
 ],
 "metadata": {
  "kernelspec": {
   "display_name": "Python 3",
   "language": "python",
   "name": "python3"
  },
  "language_info": {
   "codemirror_mode": {
    "name": "ipython",
    "version": 3
   },
   "file_extension": ".py",
   "mimetype": "text/x-python",
   "name": "python",
   "nbconvert_exporter": "python",
   "pygments_lexer": "ipython3",
   "version": "3.7.4"
  },
  "toc": {
   "base_numbering": 1,
   "nav_menu": {},
   "number_sections": true,
   "sideBar": true,
   "skip_h1_title": false,
   "title_cell": "Table of Contents",
   "title_sidebar": "Contents",
   "toc_cell": false,
   "toc_position": {},
   "toc_section_display": true,
   "toc_window_display": false
  },
  "varInspector": {
   "cols": {
    "lenName": 16,
    "lenType": 16,
    "lenVar": 40
   },
   "kernels_config": {
    "python": {
     "delete_cmd_postfix": "",
     "delete_cmd_prefix": "del ",
     "library": "var_list.py",
     "varRefreshCmd": "print(var_dic_list())"
    },
    "r": {
     "delete_cmd_postfix": ") ",
     "delete_cmd_prefix": "rm(",
     "library": "var_list.r",
     "varRefreshCmd": "cat(var_dic_list()) "
    }
   },
   "types_to_exclude": [
    "module",
    "function",
    "builtin_function_or_method",
    "instance",
    "_Feature"
   ],
   "window_display": false
  }
 },
 "nbformat": 4,
 "nbformat_minor": 2
}
